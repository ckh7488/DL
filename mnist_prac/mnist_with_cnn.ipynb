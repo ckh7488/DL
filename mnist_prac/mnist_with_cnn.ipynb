{
 "cells": [
  {
   "cell_type": "code",
   "execution_count": 49,
   "metadata": {},
   "outputs": [],
   "source": [
    "import torch.nn as nn\n",
    "import torch\n",
    "import numpy as np\n",
    "import matplotlib.pyplot as plt\n",
    "import torchvision\n",
    "import torchvision.transforms as T\n",
    "from torch.utils.data import DataLoader"
   ]
  },
  {
   "cell_type": "code",
   "execution_count": 51,
   "metadata": {},
   "outputs": [],
   "source": [
    "transform = T.Compose([T.ToTensor(), T.Normalize((0.5,),(0.5,))])\n",
    "train_set = torchvision.datasets.MNIST(root=\"./data\", train=True, download=True, transform=transform)\n",
    "trainloader = DataLoader(train_set, batch_size=64, shuffle=True)\n",
    "testset = torchvision.datasets.MNIST(root='./data', train=False, download=True, transform=transform)\n",
    "testloader = DataLoader(testset, batch_size=64, shuffle=False)"
   ]
  },
  {
   "cell_type": "code",
   "execution_count": 75,
   "metadata": {},
   "outputs": [
    {
     "name": "stdout",
     "output_type": "stream",
     "text": [
      "(2,)\n",
      "torch.Size([64, 1, 28, 28])\n",
      "torch.Size([64, 64, 32, 32])\n",
      "torch.Size([64, 32, 16, 16])\n",
      "torch.Size([64, 16, 16, 16])\n",
      "torch.Size([64, 16, 8, 8])\n"
     ]
    },
    {
     "data": {
      "text/plain": [
       "torch.Size([64, 1024])"
      ]
     },
     "execution_count": 75,
     "metadata": {},
     "output_type": "execute_result"
    }
   ],
   "source": [
    "x = trainloader._get_iterator().__next__()\n",
    "x = x[0]\n",
    "x = nn.Conv2d(x.shape[1], 64, 3, 1, 3)(x)\n",
    "x = nn.LeakyReLU(0.1)(x)\n",
    "\n",
    "x = nn.Conv2d(x.shape[1], x.shape[1]//2, 3, 2, 1)(x)\n",
    "x = nn.LeakyReLU(0.1)(x)\n",
    "\n",
    "x = nn.Conv2d(x.shape[1], x.shape[1]//2, 3, 1, 1)(x)\n",
    "x = nn.LeakyReLU(0.1)(x)\n",
    "\n",
    "x = nn.MaxPool2d((2,2),(2,2))(x)\n",
    "\n",
    "x = torch.flatten(x,1)\n",
    "x = nn.Linear(x.shape[1], x.shape[1]//2)(x)\n",
    "x = nn.Linear(x.shape[1], x.shape[1]//2)(x)\n",
    "x = nn.Linear(x.shape[1], 10)(x)\n"
   ]
  },
  {
   "cell_type": "code",
   "execution_count": 64,
   "metadata": {},
   "outputs": [
    {
     "data": {
      "text/plain": [
       "torch.Size([64, 28, 7, 7])"
      ]
     },
     "execution_count": 64,
     "metadata": {},
     "output_type": "execute_result"
    }
   ],
   "source": [
    "x.shape"
   ]
  },
  {
   "cell_type": "code",
   "execution_count": 84,
   "metadata": {},
   "outputs": [
    {
     "data": {
      "text/plain": [
       "784"
      ]
     },
     "execution_count": 84,
     "metadata": {},
     "output_type": "execute_result"
    }
   ],
   "source": [
    "16*7*7"
   ]
  },
  {
   "cell_type": "code",
   "execution_count": 88,
   "metadata": {},
   "outputs": [],
   "source": [
    "import torch\n",
    "import torch.nn as nn\n",
    "import torch.nn.functional as F\n",
    "\n",
    "class CnnNet(nn.Module):\n",
    "    def __init__(self):\n",
    "        super(CnnNet, self).__init__()\n",
    "        # Define Convolutional layers\n",
    "        self.conv1 = nn.Conv2d(1, 64, 3, 1, 3)  # Assuming input has 1 channel (e.g., MNIST)\n",
    "        self.conv2 = nn.Conv2d(64, 32, 3, 2, 1) # Adjusted to fixed channels\n",
    "        self.conv3 = nn.Conv2d(32, 16, 3, 1, 1) # Adjusted to fixed channels\n",
    "\n",
    "        # Define Fully Connected layers\n",
    "        # Note: You need to calculate the correct input size for the first linear layer\n",
    "        self.fc1 = nn.Linear(1024, 512) # Example size, adjust as needed\n",
    "        self.fc2 = nn.Linear(512, 256)\n",
    "        self.fc3 = nn.Linear(256, 128)\n",
    "        self.fc4 = nn.Linear(128, 10)\n",
    "\n",
    "    def forward(self, x): \n",
    "        # Conv 1\n",
    "        x = F.leaky_relu(self.conv1(x), 0.1)\n",
    "\n",
    "        # Conv 2\n",
    "        x = F.leaky_relu(self.conv2(x), 0.1)\n",
    "\n",
    "        # Conv 3\n",
    "        x = F.leaky_relu(self.conv3(x), 0.1)\n",
    "\n",
    "        # Max_pooling\n",
    "        x = F.max_pool2d(x, (2, 2))\n",
    "\n",
    "        # FC layers\n",
    "        x = torch.flatten(x, 1)\n",
    "        x = F.leaky_relu(self.fc1(x), 0.1)\n",
    "        x = F.leaky_relu(self.fc2(x), 0.1)\n",
    "        x = F.leaky_relu(self.fc3(x), 0.1)\n",
    "        x = self.fc4(x)\n",
    "        return F.log_softmax(x, dim=1)\n",
    "\n",
    "net = CnnNet()\n",
    "      "
   ]
  },
  {
   "cell_type": "code",
   "execution_count": 89,
   "metadata": {},
   "outputs": [],
   "source": [
    "criterion = nn.CrossEntropyLoss()\n",
    "optimizer = torch.optim.Adam(net.parameters(), lr=0.001)"
   ]
  },
  {
   "cell_type": "code",
   "execution_count": 90,
   "metadata": {},
   "outputs": [
    {
     "name": "stdout",
     "output_type": "stream",
     "text": [
      "Epoch 1, Loss: 0.1682757355088094\n",
      "Epoch 2, Loss: 0.051945367192102125\n",
      "Epoch 3, Loss: 0.03591944213317055\n",
      "Epoch 4, Loss: 0.029504554646627938\n",
      "Epoch 5, Loss: 0.02420662896157179\n",
      "Finished Training\n"
     ]
    }
   ],
   "source": [
    "for epoch in range(5):  # loop over the dataset multiple times\n",
    "    running_loss = 0.0\n",
    "    for i, data in enumerate(trainloader, 0):\n",
    "        inputs, labels = data\n",
    "        optimizer.zero_grad()\n",
    "        outputs = net(inputs)\n",
    "        loss = criterion(outputs, labels)\n",
    "        loss.backward()\n",
    "        optimizer.step()\n",
    "        running_loss += loss.item()\n",
    "    print(f'Epoch {epoch + 1}, Loss: {running_loss / len(trainloader)}')\n",
    "print('Finished Training')"
   ]
  },
  {
   "cell_type": "code",
   "execution_count": 93,
   "metadata": {},
   "outputs": [
    {
     "name": "stdout",
     "output_type": "stream",
     "text": [
      "Accuracy of the network on the 10000 test images: 99.04 %\n"
     ]
    }
   ],
   "source": [
    "correct = 0\n",
    "total = 0\n",
    "with torch.no_grad():\n",
    "    for data in testloader:\n",
    "        images, labels = data\n",
    "        outputs = net(images)\n",
    "        _, predicted = torch.max(outputs.data, 1)\n",
    "        total += labels.size(0)\n",
    "        correct += (predicted == labels).sum().item()\n",
    "\n",
    "print(f'Accuracy of the network on the 10000 test images: {100 * correct / total} %')"
   ]
  }
 ],
 "metadata": {
  "kernelspec": {
   "display_name": "base",
   "language": "python",
   "name": "python3"
  },
  "language_info": {
   "codemirror_mode": {
    "name": "ipython",
    "version": 3
   },
   "file_extension": ".py",
   "mimetype": "text/x-python",
   "name": "python",
   "nbconvert_exporter": "python",
   "pygments_lexer": "ipython3",
   "version": "3.9.13"
  }
 },
 "nbformat": 4,
 "nbformat_minor": 2
}
