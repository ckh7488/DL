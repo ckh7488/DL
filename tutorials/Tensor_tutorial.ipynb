{
 "cells": [
  {
   "cell_type": "code",
   "execution_count": 7,
   "metadata": {},
   "outputs": [],
   "source": [
    "import torch\n",
    "import numpy as np"
   ]
  },
  {
   "cell_type": "markdown",
   "metadata": {},
   "source": [
    "# Tensor Tutorial"
   ]
  },
  {
   "cell_type": "code",
   "execution_count": 19,
   "metadata": {},
   "outputs": [
    {
     "name": "stdout",
     "output_type": "stream",
     "text": [
      "3 3 torch.Size([10, 10, 5])\n"
     ]
    }
   ],
   "source": [
    "t = torch.randint(0,100,(10,10,5))\n",
    "\n",
    "print(\n",
    "    t.ndim, \n",
    "    t.dim(), \n",
    "    t.size()\n",
    "    )\n"
   ]
  },
  {
   "cell_type": "code",
   "execution_count": 27,
   "metadata": {},
   "outputs": [
    {
     "data": {
      "text/plain": [
       "torch.Size([10, 5])"
      ]
     },
     "execution_count": 27,
     "metadata": {},
     "output_type": "execute_result"
    }
   ],
   "source": []
  },
  {
   "cell_type": "markdown",
   "metadata": {},
   "source": [
    "### braodcasting rule for torch.matmul\n",
    "\n",
    "torch.matmul(A,B) check list\n",
    "```python\n",
    "#if this return True, matmul possible\n",
    "def check_list(A,B):\n",
    "    if A.shape[-1] != B.shape[-2] :\n",
    "        return False\n",
    "    for a,b in zip(A.shape[:-2], B.shape[:-2]):\n",
    "        if a == b or a==1 or b==1 : continue\n",
    "        else : return False\n",
    "    return True\n",
    "```"
   ]
  },
  {
   "cell_type": "code",
   "execution_count": null,
   "metadata": {},
   "outputs": [],
   "source": [
    "t1 = torch.randint(0,10, (5,5,2,3), dtype=torch.float)\n",
    "t2 = torch.randint(10,20, (5,5,3,2), dtype=torch.float)\n",
    "\n",
    "\n",
    "t1[0,0,0,0], t2[0,0,0,0], torch.matmul(t1,t2)\n"
   ]
  },
  {
   "cell_type": "code",
   "execution_count": 40,
   "metadata": {},
   "outputs": [
    {
     "name": "stdout",
     "output_type": "stream",
     "text": [
      "torch.Size([5, 2, 3])\n",
      "torch.Size([5, 2, 3])\n",
      "torch.Size([5, 5, 3])\n",
      "torch.Size([5, 5, 2])\n",
      "tensor([2.5000, 3.5000, 4.5000])\n"
     ]
    },
    {
     "data": {
      "text/plain": [
       "tensor([2., 5.])"
      ]
     },
     "execution_count": 40,
     "metadata": {},
     "output_type": "execute_result"
    }
   ],
   "source": [
    "# torch.Tensor.mean(dim=i) function work averaging the dim axis.\n",
    "for i in range(len(t1.shape)):\n",
    "    print(t1.mean(dim=i).shape)\n",
    "\n",
    "# torch.FloatTensor([[1,2,3],[4,5,6]]).mean(dim=0) equals [[(1+4)/2, (2+5)/2, (3+6)/2]]\n",
    "print(torch.FloatTensor([[1,2,3],[4,5,6]]).mean(dim=0))\n",
    "\n",
    "# torch.FloatTensor([[1,2,3],[4,5,6]]).mean(dim=1) equals [[(1+2+3)/3, (4+5+6)/3]]\n",
    "torch.FloatTensor([[1,2,3],[4,5,6]]).mean(dim=1)"
   ]
  },
  {
   "cell_type": "markdown",
   "metadata": {},
   "source": [
    "### torch.max, torch.argmax  \n",
    "인수 없이 쓸 경우(no param) : 모든 elements들 중, 최대 값 단 한개  \n",
    "인수(dim)을 줄 경우 : dim으로 정해진 차원 외의 부분을 순회하며 dim 준 차원 값중 최대 값을 선택  "
   ]
  },
  {
   "cell_type": "code",
   "execution_count": 71,
   "metadata": {},
   "outputs": [
    {
     "name": "stdout",
     "output_type": "stream",
     "text": [
      "tensor(0.9961) tensor(0.9961)\n"
     ]
    }
   ],
   "source": [
    "rand_tensor = torch.rand((5,5,2))\n",
    "# print(rand_tensor)\n",
    "idx = rand_tensor.argmax()\n",
    "# 단 하나의 idx 값이므로, flatten 후 해당 idx값과 비교\n",
    "print(rand_tensor.reshape(-1)[idx], rand_tensor.max())"
   ]
  },
  {
   "cell_type": "code",
   "execution_count": 80,
   "metadata": {},
   "outputs": [
    {
     "name": "stdout",
     "output_type": "stream",
     "text": [
      "tensor([[[0.9086, 0.5848, 0.0370, 0.0715],\n",
      "         [0.8166, 0.2186, 0.2770, 0.9911],\n",
      "         [0.3400, 0.9930, 0.8842, 0.4852]],\n",
      "\n",
      "        [[0.5974, 0.8312, 0.1563, 0.6105],\n",
      "         [0.5388, 0.1573, 0.2952, 0.9887],\n",
      "         [0.4068, 0.6409, 0.7916, 0.7368]],\n",
      "\n",
      "        [[0.6253, 0.9810, 0.1864, 0.3195],\n",
      "         [0.6170, 0.4023, 0.8528, 0.9583],\n",
      "         [0.9065, 0.1554, 0.2389, 0.1906]]])\n",
      "tensor(0.9086) tensor(0.9086)\n",
      "tensor(0.9911) tensor(0.9911)\n",
      "tensor(0.9930) tensor(0.9930)\n",
      "tensor(0.8312) tensor(0.8312)\n",
      "tensor(0.9887) tensor(0.9887)\n",
      "tensor(0.7916) tensor(0.7916)\n",
      "tensor(0.9810) tensor(0.9810)\n",
      "tensor(0.9583) tensor(0.9583)\n",
      "tensor(0.9065) tensor(0.9065)\n"
     ]
    }
   ],
   "source": [
    "# dim 값 존재 시, max 함수는 argmax 와 max 값을 같이 출력\n",
    "rand_tensor = torch.rand((3,3,4))\n",
    "v, i = rand_tensor.max(dim=2) \n",
    "print(rand_tensor)  \n",
    "for x in range(rand_tensor.shape[0]):\n",
    "    for y in range(rand_tensor.shape[1]):\n",
    "        print(v[x,y], rand_tensor[x,y,i[x,y]])"
   ]
  }
 ],
 "metadata": {
  "kernelspec": {
   "display_name": "Python 3",
   "language": "python",
   "name": "python3"
  },
  "language_info": {
   "codemirror_mode": {
    "name": "ipython",
    "version": 3
   },
   "file_extension": ".py",
   "mimetype": "text/x-python",
   "name": "python",
   "nbconvert_exporter": "python",
   "pygments_lexer": "ipython3",
   "version": "3.9.1"
  }
 },
 "nbformat": 4,
 "nbformat_minor": 2
}
